{
 "cells": [
  {
   "cell_type": "code",
   "execution_count": 1,
   "metadata": {},
   "outputs": [],
   "source": [
    "import torch\n",
    "import torchvision\n",
    "import torch.nn as nn\n",
    "import torch.nn.functional as F\n",
    "import torch.optim as optim\n",
    "import matplotlib.pyplot as plt\n",
    "\n",
    "import backwardcompatibilityml.loss as bcloss\n",
    "import backwardcompatibilityml.scores as scores\n",
    "\n",
    "%matplotlib inline"
   ]
  },
  {
   "cell_type": "code",
   "execution_count": 2,
   "metadata": {},
   "outputs": [
    {
     "data": {
      "text/plain": [
       "<torch._C.Generator at 0x7f93e807e8f0>"
      ]
     },
     "execution_count": 2,
     "metadata": {},
     "output_type": "execute_result"
    }
   ],
   "source": [
    "n_epochs = 3\n",
    "batch_size_train = 64\n",
    "batch_size_test = 1000\n",
    "learning_rate = 0.01\n",
    "momentum = 0.5\n",
    "log_interval = 10\n",
    "\n",
    "random_seed = 1\n",
    "torch.backends.cudnn.enabled = False\n",
    "torch.manual_seed(random_seed)"
   ]
  },
  {
   "cell_type": "code",
   "execution_count": 3,
   "metadata": {},
   "outputs": [],
   "source": [
    "train_loader = list(torch.utils.data.DataLoader(\n",
    "  torchvision.datasets.MNIST('datasets/', train=True, download=True,\n",
    "                             transform=torchvision.transforms.Compose([\n",
    "                               torchvision.transforms.ToTensor(),\n",
    "                               torchvision.transforms.Normalize(\n",
    "                                 (0.1307,), (0.3081,))\n",
    "                             ])),\n",
    "  batch_size=batch_size_train, shuffle=True))\n",
    "\n",
    "test_loader = list(torch.utils.data.DataLoader(\n",
    "  torchvision.datasets.MNIST('datasets/', train=False, download=True,\n",
    "                             transform=torchvision.transforms.Compose([\n",
    "                               torchvision.transforms.ToTensor(),\n",
    "                               torchvision.transforms.Normalize(\n",
    "                                 (0.1307,), (0.3081,))\n",
    "                             ])),\n",
    "  batch_size=batch_size_test, shuffle=True))"
   ]
  },
  {
   "cell_type": "code",
   "execution_count": 4,
   "metadata": {},
   "outputs": [],
   "source": [
    "train_loader_a = train_loader[:int(len(train_loader)/2)]\n",
    "train_loader_b = train_loader[int(len(train_loader)/2):]"
   ]
  },
  {
   "cell_type": "code",
   "execution_count": 5,
   "metadata": {},
   "outputs": [
    {
     "data": {
      "image/png": "[encoded data removed]",
      "text/plain": [
       "<Figure size 432x288 with 6 Axes>"
      ]
     },
     "execution_count": 5,
     "metadata": {},
     "output_type": "execute_result"
    },
    {
     "data": {
      "image/png": "[encoded data removed]",
      "text/plain": [
       "<Figure size 432x288 with 6 Axes>"
      ]
     },
     "metadata": {},
     "output_type": "display_data"
    }
   ],
   "source": [
    "fig = plt.figure()\n",
    "for i in range(6):\n",
    "    plt.subplot(2,3,i+1)\n",
    "    plt.tight_layout()\n",
    "    plt.imshow(train_loader_a[0][0][i][0], cmap='gray', interpolation='none')\n",
    "    plt.title(\"Ground Truth: {}\".format(train_loader_a[0][1][i]))\n",
    "    plt.xticks([])\n",
    "    plt.yticks([])\n",
    "fig"
   ]
  },
  {
   "cell_type": "code",
   "execution_count": 6,
   "metadata": {},
   "outputs": [],
   "source": [
    "class Net(nn.Module):\n",
    "    def __init__(self):\n",
    "        super(Net, self).__init__()\n",
    "        self.conv1 = nn.Conv2d(1, 10, kernel_size=5)\n",
    "        self.conv2 = nn.Conv2d(10, 20, kernel_size=5)\n",
    "        self.conv2_drop = nn.Dropout2d()\n",
    "        self.fc1 = nn.Linear(320, 50)\n",
    "        self.fc2 = nn.Linear(50, 10)\n",
    "\n",
    "    def forward(self, x):\n",
    "        x = F.relu(F.max_pool2d(self.conv1(x), 2))\n",
    "        x = F.relu(F.max_pool2d(self.conv2_drop(self.conv2(x)), 2))\n",
    "        x = x.view(-1, 320)\n",
    "        x = F.relu(self.fc1(x))\n",
    "        x = F.dropout(x, training=self.training)\n",
    "        x = self.fc2(x)\n",
    "        return x, F.softmax(x, dim=1), F.log_softmax(x, dim=1)"
   ]
  },
  {
   "cell_type": "code",
   "execution_count": 7,
   "metadata": {},
   "outputs": [],
   "source": [
    "network = Net()\n",
    "optimizer = optim.SGD(network.parameters(), lr=learning_rate, momentum=momentum)"
   ]
  },
  {
   "cell_type": "code",
   "execution_count": 8,
   "metadata": {},
   "outputs": [],
   "source": [
    "train_losses = []\n",
    "train_counter = []\n",
    "test_losses = []\n",
    "test_counter = [i*len(train_loader_a)*batch_size_train for i in range(n_epochs + 1)]"
   ]
  },
  {
   "cell_type": "code",
   "execution_count": 9,
   "metadata": {},
   "outputs": [],
   "source": [
    "def train(epoch):\n",
    "    network.train()\n",
    "    for batch_idx, (data, target) in enumerate(train_loader_a):\n",
    "        optimizer.zero_grad()\n",
    "        _, _, output = network(data)\n",
    "        loss = F.nll_loss(output, target)\n",
    "        loss.backward()\n",
    "        optimizer.step()\n",
    "        if batch_idx % log_interval == 0:\n",
    "            print('Train Epoch: {} [{}/{} ({:.0f}%)]\\tLoss: {:.6f}'.format(\n",
    "                epoch, batch_idx * len(data), len(train_loader_a)*batch_size_train,\n",
    "                100. * batch_idx / len(train_loader_a), loss.item()))\n",
    "            train_losses.append(loss.item())\n",
    "            train_counter.append(\n",
    "                (batch_idx*64) + ((epoch-1)*len(train_loader_a)*batch_size_train))"
   ]
  },
  {
   "cell_type": "code",
   "execution_count": 10,
   "metadata": {},
   "outputs": [],
   "source": [
    "def test():\n",
    "    network.eval()\n",
    "    test_loss = 0\n",
    "    correct = 0\n",
    "    with torch.no_grad():\n",
    "        for data, target in test_loader:\n",
    "            _, _, output = network(data)\n",
    "            test_loss += F.nll_loss(output, target, size_average=False).item()\n",
    "            pred = output.data.max(1, keepdim=True)[1]\n",
    "            correct += pred.eq(target.data.view_as(pred)).sum()\n",
    "        test_loss /= len(train_loader_a)*batch_size_train\n",
    "        test_losses.append(test_loss)\n",
    "        print('\\nTest set: Avg. loss: {:.4f}, Accuracy: {}/{} ({:.0f}%)\\n'.format(\n",
    "            test_loss, correct, len(train_loader_a)*batch_size_train,\n",
    "            100. * correct / (len(train_loader_a)*batch_size_train)))"
   ]
  },
  {
   "cell_type": "code",
   "execution_count": 11,
   "metadata": {},
   "outputs": [
    {
     "name": "stderr",
     "output_type": "stream",
     "text": [
      "/home/xavier/mnt/datapartition/work/virtualenvs/venv/lib/python3.6/site-packages/torch/nn/_reduction.py:43: UserWarning: size_average and reduce args will be deprecated, please use reduction='sum' instead.\n",
      "  warnings.warn(warning.format(ret))\n"
     ]
    },
    {
     "name": "stdout",
     "output_type": "stream",
     "text": [
      "\n",
      "Test set: Avg. loss: 0.7713, Accuracy: 972/30016 (3%)\n",
      "\n",
      "Train Epoch: 1 [0/30016 (0%)]\tLoss: 2.305678\n",
      "Train Epoch: 1 [640/30016 (2%)]\tLoss: 2.311225\n",
      "Train Epoch: 1 [1280/30016 (4%)]\tLoss: 2.286206\n",
      "Train Epoch: 1 [1920/30016 (6%)]\tLoss: 2.302462\n",
      "Train Epoch: 1 [2560/30016 (9%)]\tLoss: 2.281250\n",
      "Train Epoch: 1 [3200/30016 (11%)]\tLoss: 2.298211\n",
      "Train Epoch: 1 [3840/30016 (13%)]\tLoss: 2.225594\n",
      "Train Epoch: 1 [4480/30016 (15%)]\tLoss: 2.239897\n",
      "Train Epoch: 1 [5120/30016 (17%)]\tLoss: 2.198234\n",
      "Train Epoch: 1 [5760/30016 (19%)]\tLoss: 2.240996\n",
      "Train Epoch: 1 [6400/30016 (21%)]\tLoss: 2.108915\n",
      "Train Epoch: 1 [7040/30016 (23%)]\tLoss: 2.108582\n",
      "Train Epoch: 1 [7680/30016 (26%)]\tLoss: 1.986425\n",
      "Train Epoch: 1 [8320/30016 (28%)]\tLoss: 1.893043\n",
      "Train Epoch: 1 [8960/30016 (30%)]\tLoss: 1.840705\n",
      "Train Epoch: 1 [9600/30016 (32%)]\tLoss: 1.749162\n",
      "Train Epoch: 1 [10240/30016 (34%)]\tLoss: 1.735245\n",
      "Train Epoch: 1 [10880/30016 (36%)]\tLoss: 1.511899\n",
      "Train Epoch: 1 [11520/30016 (38%)]\tLoss: 1.326978\n",
      "Train Epoch: 1 [12160/30016 (41%)]\tLoss: 1.497780\n",
      "Train Epoch: 1 [12800/30016 (43%)]\tLoss: 1.447441\n",
      "Train Epoch: 1 [13440/30016 (45%)]\tLoss: 1.404896\n",
      "Train Epoch: 1 [14080/30016 (47%)]\tLoss: 1.140079\n",
      "Train Epoch: 1 [14720/30016 (49%)]\tLoss: 1.280649\n",
      "Train Epoch: 1 [15360/30016 (51%)]\tLoss: 1.181172\n",
      "Train Epoch: 1 [16000/30016 (53%)]\tLoss: 1.127303\n",
      "Train Epoch: 1 [16640/30016 (55%)]\tLoss: 1.126741\n",
      "Train Epoch: 1 [17280/30016 (58%)]\tLoss: 1.105168\n",
      "Train Epoch: 1 [17920/30016 (60%)]\tLoss: 0.813971\n",
      "Train Epoch: 1 [18560/30016 (62%)]\tLoss: 0.840900\n",
      "Train Epoch: 1 [19200/30016 (64%)]\tLoss: 0.992556\n",
      "Train Epoch: 1 [19840/30016 (66%)]\tLoss: 0.946761\n",
      "Train Epoch: 1 [20480/30016 (68%)]\tLoss: 1.067799\n",
      "Train Epoch: 1 [21120/30016 (70%)]\tLoss: 0.811597\n",
      "Train Epoch: 1 [21760/30016 (72%)]\tLoss: 1.091845\n",
      "Train Epoch: 1 [22400/30016 (75%)]\tLoss: 0.820624\n",
      "Train Epoch: 1 [23040/30016 (77%)]\tLoss: 0.826630\n",
      "Train Epoch: 1 [23680/30016 (79%)]\tLoss: 0.849913\n",
      "Train Epoch: 1 [24320/30016 (81%)]\tLoss: 0.699372\n",
      "Train Epoch: 1 [24960/30016 (83%)]\tLoss: 0.726847\n",
      "Train Epoch: 1 [25600/30016 (85%)]\tLoss: 0.960340\n",
      "Train Epoch: 1 [26240/30016 (87%)]\tLoss: 0.635468\n",
      "Train Epoch: 1 [26880/30016 (90%)]\tLoss: 0.937016\n",
      "Train Epoch: 1 [27520/30016 (92%)]\tLoss: 0.617200\n",
      "Train Epoch: 1 [28160/30016 (94%)]\tLoss: 0.490057\n",
      "Train Epoch: 1 [28800/30016 (96%)]\tLoss: 0.639864\n",
      "Train Epoch: 1 [29440/30016 (98%)]\tLoss: 0.651484\n",
      "\n",
      "Test set: Avg. loss: 0.1110, Accuracy: 9112/30016 (30%)\n",
      "\n",
      "Train Epoch: 2 [0/30016 (0%)]\tLoss: 0.679971\n",
      "Train Epoch: 2 [640/30016 (2%)]\tLoss: 0.575498\n",
      "Train Epoch: 2 [1280/30016 (4%)]\tLoss: 0.603396\n",
      "Train Epoch: 2 [1920/30016 (6%)]\tLoss: 0.784277\n",
      "Train Epoch: 2 [2560/30016 (9%)]\tLoss: 0.602681\n",
      "Train Epoch: 2 [3200/30016 (11%)]\tLoss: 0.551940\n",
      "Train Epoch: 2 [3840/30016 (13%)]\tLoss: 0.828151\n",
      "Train Epoch: 2 [4480/30016 (15%)]\tLoss: 0.702360\n",
      "Train Epoch: 2 [5120/30016 (17%)]\tLoss: 0.505887\n",
      "Train Epoch: 2 [5760/30016 (19%)]\tLoss: 0.601120\n",
      "Train Epoch: 2 [6400/30016 (21%)]\tLoss: 0.620255\n",
      "Train Epoch: 2 [7040/30016 (23%)]\tLoss: 0.715514\n",
      "Train Epoch: 2 [7680/30016 (26%)]\tLoss: 0.635500\n",
      "Train Epoch: 2 [8320/30016 (28%)]\tLoss: 0.766370\n",
      "Train Epoch: 2 [8960/30016 (30%)]\tLoss: 0.709054\n",
      "Train Epoch: 2 [9600/30016 (32%)]\tLoss: 0.610058\n",
      "Train Epoch: 2 [10240/30016 (34%)]\tLoss: 0.638193\n",
      "Train Epoch: 2 [10880/30016 (36%)]\tLoss: 0.403873\n",
      "Train Epoch: 2 [11520/30016 (38%)]\tLoss: 0.429996\n",
      "Train Epoch: 2 [12160/30016 (41%)]\tLoss: 0.420148\n",
      "Train Epoch: 2 [12800/30016 (43%)]\tLoss: 0.700039\n",
      "Train Epoch: 2 [13440/30016 (45%)]\tLoss: 0.502002\n",
      "Train Epoch: 2 [14080/30016 (47%)]\tLoss: 0.457206\n",
      "Train Epoch: 2 [14720/30016 (49%)]\tLoss: 0.631569\n",
      "Train Epoch: 2 [15360/30016 (51%)]\tLoss: 0.534518\n",
      "Train Epoch: 2 [16000/30016 (53%)]\tLoss: 0.840007\n",
      "Train Epoch: 2 [16640/30016 (55%)]\tLoss: 0.698938\n",
      "Train Epoch: 2 [17280/30016 (58%)]\tLoss: 0.572870\n",
      "Train Epoch: 2 [17920/30016 (60%)]\tLoss: 0.546331\n",
      "Train Epoch: 2 [18560/30016 (62%)]\tLoss: 0.498468\n",
      "Train Epoch: 2 [19200/30016 (64%)]\tLoss: 0.437722\n",
      "Train Epoch: 2 [19840/30016 (66%)]\tLoss: 0.403407\n",
      "Train Epoch: 2 [20480/30016 (68%)]\tLoss: 0.605921\n",
      "Train Epoch: 2 [21120/30016 (70%)]\tLoss: 0.518158\n",
      "Train Epoch: 2 [21760/30016 (72%)]\tLoss: 0.513488\n",
      "Train Epoch: 2 [22400/30016 (75%)]\tLoss: 0.317861\n",
      "Train Epoch: 2 [23040/30016 (77%)]\tLoss: 0.541694\n",
      "Train Epoch: 2 [23680/30016 (79%)]\tLoss: 0.586859\n",
      "Train Epoch: 2 [24320/30016 (81%)]\tLoss: 0.572084\n",
      "Train Epoch: 2 [24960/30016 (83%)]\tLoss: 0.431482\n",
      "Train Epoch: 2 [25600/30016 (85%)]\tLoss: 0.797822\n",
      "Train Epoch: 2 [26240/30016 (87%)]\tLoss: 0.412515\n",
      "Train Epoch: 2 [26880/30016 (90%)]\tLoss: 0.566070\n",
      "Train Epoch: 2 [27520/30016 (92%)]\tLoss: 0.367494\n",
      "Train Epoch: 2 [28160/30016 (94%)]\tLoss: 0.429313\n",
      "Train Epoch: 2 [28800/30016 (96%)]\tLoss: 0.483387\n",
      "Train Epoch: 2 [29440/30016 (98%)]\tLoss: 0.593320\n",
      "\n",
      "Test set: Avg. loss: 0.0655, Accuracy: 9440/30016 (31%)\n",
      "\n",
      "Train Epoch: 3 [0/30016 (0%)]\tLoss: 0.474489\n",
      "Train Epoch: 3 [640/30016 (2%)]\tLoss: 0.404762\n",
      "Train Epoch: 3 [1280/30016 (4%)]\tLoss: 0.442340\n",
      "Train Epoch: 3 [1920/30016 (6%)]\tLoss: 0.582855\n",
      "Train Epoch: 3 [2560/30016 (9%)]\tLoss: 0.378938\n",
      "Train Epoch: 3 [3200/30016 (11%)]\tLoss: 0.433445\n",
      "Train Epoch: 3 [3840/30016 (13%)]\tLoss: 0.458221\n",
      "Train Epoch: 3 [4480/30016 (15%)]\tLoss: 0.457887\n",
      "Train Epoch: 3 [5120/30016 (17%)]\tLoss: 0.308875\n",
      "Train Epoch: 3 [5760/30016 (19%)]\tLoss: 0.409129\n",
      "Train Epoch: 3 [6400/30016 (21%)]\tLoss: 0.495833\n",
      "Train Epoch: 3 [7040/30016 (23%)]\tLoss: 0.525634\n",
      "Train Epoch: 3 [7680/30016 (26%)]\tLoss: 0.524537\n",
      "Train Epoch: 3 [8320/30016 (28%)]\tLoss: 0.499806\n",
      "Train Epoch: 3 [8960/30016 (30%)]\tLoss: 0.442480\n",
      "Train Epoch: 3 [9600/30016 (32%)]\tLoss: 0.374891\n",
      "Train Epoch: 3 [10240/30016 (34%)]\tLoss: 0.276473\n",
      "Train Epoch: 3 [10880/30016 (36%)]\tLoss: 0.365839\n",
      "Train Epoch: 3 [11520/30016 (38%)]\tLoss: 0.428501\n",
      "Train Epoch: 3 [12160/30016 (41%)]\tLoss: 0.354580\n",
      "Train Epoch: 3 [12800/30016 (43%)]\tLoss: 0.599784\n",
      "Train Epoch: 3 [13440/30016 (45%)]\tLoss: 0.472085\n",
      "Train Epoch: 3 [14080/30016 (47%)]\tLoss: 0.302347\n",
      "Train Epoch: 3 [14720/30016 (49%)]\tLoss: 0.496157\n",
      "Train Epoch: 3 [15360/30016 (51%)]\tLoss: 0.513520\n",
      "Train Epoch: 3 [16000/30016 (53%)]\tLoss: 0.700488\n",
      "Train Epoch: 3 [16640/30016 (55%)]\tLoss: 0.540268\n",
      "Train Epoch: 3 [17280/30016 (58%)]\tLoss: 0.520610\n",
      "Train Epoch: 3 [17920/30016 (60%)]\tLoss: 0.418993\n",
      "Train Epoch: 3 [18560/30016 (62%)]\tLoss: 0.324181\n",
      "Train Epoch: 3 [19200/30016 (64%)]\tLoss: 0.487732\n",
      "Train Epoch: 3 [19840/30016 (66%)]\tLoss: 0.395307\n",
      "Train Epoch: 3 [20480/30016 (68%)]\tLoss: 0.457932\n",
      "Train Epoch: 3 [21120/30016 (70%)]\tLoss: 0.325426\n",
      "Train Epoch: 3 [21760/30016 (72%)]\tLoss: 0.595369\n",
      "Train Epoch: 3 [22400/30016 (75%)]\tLoss: 0.390539\n",
      "Train Epoch: 3 [23040/30016 (77%)]\tLoss: 0.361601\n",
      "Train Epoch: 3 [23680/30016 (79%)]\tLoss: 0.437136\n",
      "Train Epoch: 3 [24320/30016 (81%)]\tLoss: 0.511492\n",
      "Train Epoch: 3 [24960/30016 (83%)]\tLoss: 0.256881\n",
      "Train Epoch: 3 [25600/30016 (85%)]\tLoss: 0.653104\n",
      "Train Epoch: 3 [26240/30016 (87%)]\tLoss: 0.384324\n",
      "Train Epoch: 3 [26880/30016 (90%)]\tLoss: 0.318093\n",
      "Train Epoch: 3 [27520/30016 (92%)]\tLoss: 0.376911\n",
      "Train Epoch: 3 [28160/30016 (94%)]\tLoss: 0.240534\n",
      "Train Epoch: 3 [28800/30016 (96%)]\tLoss: 0.580262\n",
      "Train Epoch: 3 [29440/30016 (98%)]\tLoss: 0.381135\n",
      "\n",
      "Test set: Avg. loss: 0.0504, Accuracy: 9537/30016 (32%)\n",
      "\n"
     ]
    }
   ],
   "source": [
    "test()\n",
    "for epoch in range(1, n_epochs + 1):\n",
    "    train(epoch)\n",
    "    test()"
   ]
  },
  {
   "cell_type": "code",
   "execution_count": 12,
   "metadata": {},
   "outputs": [
    {
     "data": {
      "image/png": "[encoded data removed]",
      "text/plain": [
       "<Figure size 432x288 with 1 Axes>"
      ]
     },
     "execution_count": 12,
     "metadata": {},
     "output_type": "execute_result"
    },
    {
     "data": {
      "image/png": "[encoded data removed]",
      "text/plain": [
       "<Figure size 432x288 with 1 Axes>"
      ]
     },
     "metadata": {
      "needs_background": "light"
     },
     "output_type": "display_data"
    }
   ],
   "source": [
    "fig = plt.figure()\n",
    "plt.plot(train_counter, train_losses, color='blue')\n",
    "plt.scatter(test_counter, test_losses, color='red')\n",
    "plt.legend(['Train Loss', 'Test Loss'], loc='upper right')\n",
    "plt.xlabel('number of training examples seen')\n",
    "plt.ylabel('negative log likelihood loss')\n",
    "fig"
   ]
  },
  {
   "cell_type": "code",
   "execution_count": 13,
   "metadata": {},
   "outputs": [],
   "source": [
    "with torch.no_grad():\n",
    "    _, _, output = network(test_loader[0][0])"
   ]
  },
  {
   "cell_type": "code",
   "execution_count": 14,
   "metadata": {},
   "outputs": [
    {
     "data": {
      "image/png": "[encoded data removed]",
      "text/plain": [
       "<Figure size 432x288 with 6 Axes>"
      ]
     },
     "execution_count": 14,
     "metadata": {},
     "output_type": "execute_result"
    },
    {
     "data": {
      "image/png": "[encoded data removed]",
      "text/plain": [
       "<Figure size 432x288 with 6 Axes>"
      ]
     },
     "metadata": {},
     "output_type": "display_data"
    }
   ],
   "source": [
    "fig = plt.figure()\n",
    "for i in range(6):\n",
    "    plt.subplot(2,3,i+1)\n",
    "    plt.tight_layout()\n",
    "    plt.imshow(test_loader[0][0][i][0], cmap='gray', interpolation='none')\n",
    "    plt.title(\"Prediction: {}\".format(\n",
    "        output.data.max(1, keepdim=True)[1][i].item()))\n",
    "    plt.xticks([])\n",
    "    plt.yticks([])\n",
    "fig"
   ]
  },
  {
   "cell_type": "code",
   "execution_count": 15,
   "metadata": {},
   "outputs": [],
   "source": [
    "import copy\n",
    "import importlib\n",
    "importlib.reload(bcloss)\n",
    "\n",
    "h1 = copy.deepcopy(network)\n",
    "h2 = copy.deepcopy(network)\n",
    "h1.eval()\n",
    "new_optimizer = optim.SGD(h2.parameters(), lr=learning_rate, momentum=momentum)\n",
    "lambda_c = 1.0\n",
    "si_loss = bcloss.StrictImitationNLLLoss(h1, h2, lambda_c)"
   ]
  },
  {
   "cell_type": "code",
   "execution_count": 16,
   "metadata": {},
   "outputs": [],
   "source": [
    "update_train_losses = []\n",
    "update_train_counter = []\n",
    "update_test_losses = []\n",
    "update_test_counter = [i*len(train_loader_b)*batch_size_train for i in range(n_epochs + 1)]"
   ]
  },
  {
   "cell_type": "code",
   "execution_count": 17,
   "metadata": {},
   "outputs": [],
   "source": [
    "def train_update(epoch):\n",
    "    for batch_idx, (data, target) in enumerate(train_loader_b):\n",
    "        new_optimizer.zero_grad()\n",
    "        loss = si_loss(data, target)\n",
    "        loss.backward()\n",
    "        new_optimizer.step()\n",
    "        if batch_idx % log_interval == 0:\n",
    "            print('Train Epoch: {} [{}/{} ({:.0f}%)]\\tLoss: {:.6f}'.format(\n",
    "                epoch, batch_idx * len(data), len(train_loader_b)*batch_size_train,\n",
    "                100. * batch_idx / len(train_loader_b), loss.item()))\n",
    "            update_train_losses.append(loss.item())\n",
    "            update_train_counter.append(\n",
    "                (batch_idx*64) + ((epoch-1)*len(train_loader_b)*batch_size_train))"
   ]
  },
  {
   "cell_type": "code",
   "execution_count": 18,
   "metadata": {},
   "outputs": [],
   "source": [
    "def test_update():\n",
    "    h2.eval()\n",
    "    test_loss = 0\n",
    "    correct = 0\n",
    "    with torch.no_grad():\n",
    "        for data, target in test_loader:\n",
    "            _, _, output = h2(data)\n",
    "            test_loss += F.nll_loss(output, target, size_average=False).item()\n",
    "            pred = output.data.max(1, keepdim=True)[1]\n",
    "            correct += pred.eq(target.data.view_as(pred)).sum()\n",
    "    test_loss /= len(train_loader_b)*batch_size_train\n",
    "    update_test_losses.append(test_loss)\n",
    "    print('\\nTest set: Avg. loss: {:.4f}, Accuracy: {}/{} ({:.0f}%)\\n'.format(\n",
    "    test_loss, correct, len(train_loader_b)*batch_size_train,\n",
    "    100. * correct / (len(train_loader_b)*batch_size_train)))"
   ]
  },
  {
   "cell_type": "code",
   "execution_count": 19,
   "metadata": {},
   "outputs": [
    {
     "name": "stdout",
     "output_type": "stream",
     "text": [
      "\n",
      "Test set: Avg. loss: 0.0504, Accuracy: 9537/30016 (32%)\n",
      "\n",
      "Train Epoch: 1 [0/30016 (0%)]\tLoss: 7.707129\n",
      "Train Epoch: 1 [640/30016 (2%)]\tLoss: nan\n",
      "Train Epoch: 1 [1280/30016 (4%)]\tLoss: nan\n",
      "Train Epoch: 1 [1920/30016 (6%)]\tLoss: nan\n",
      "Train Epoch: 1 [2560/30016 (9%)]\tLoss: nan\n",
      "Train Epoch: 1 [3200/30016 (11%)]\tLoss: nan\n",
      "Train Epoch: 1 [3840/30016 (13%)]\tLoss: nan\n",
      "Train Epoch: 1 [4480/30016 (15%)]\tLoss: nan\n",
      "Train Epoch: 1 [5120/30016 (17%)]\tLoss: nan\n",
      "Train Epoch: 1 [5760/30016 (19%)]\tLoss: nan\n",
      "Train Epoch: 1 [6400/30016 (21%)]\tLoss: nan\n",
      "Train Epoch: 1 [7040/30016 (23%)]\tLoss: nan\n",
      "Train Epoch: 1 [7680/30016 (26%)]\tLoss: nan\n",
      "Train Epoch: 1 [8320/30016 (28%)]\tLoss: nan\n",
      "Train Epoch: 1 [8960/30016 (30%)]\tLoss: nan\n",
      "Train Epoch: 1 [9600/30016 (32%)]\tLoss: nan\n",
      "Train Epoch: 1 [10240/30016 (34%)]\tLoss: nan\n",
      "Train Epoch: 1 [10880/30016 (36%)]\tLoss: nan\n",
      "Train Epoch: 1 [11520/30016 (38%)]\tLoss: nan\n",
      "Train Epoch: 1 [12160/30016 (41%)]\tLoss: nan\n",
      "Train Epoch: 1 [12800/30016 (43%)]\tLoss: nan\n",
      "Train Epoch: 1 [13440/30016 (45%)]\tLoss: nan\n",
      "Train Epoch: 1 [14080/30016 (47%)]\tLoss: nan\n",
      "Train Epoch: 1 [14720/30016 (49%)]\tLoss: nan\n",
      "Train Epoch: 1 [15360/30016 (51%)]\tLoss: nan\n",
      "Train Epoch: 1 [16000/30016 (53%)]\tLoss: nan\n",
      "Train Epoch: 1 [16640/30016 (55%)]\tLoss: nan\n",
      "Train Epoch: 1 [17280/30016 (58%)]\tLoss: nan\n",
      "Train Epoch: 1 [17920/30016 (60%)]\tLoss: nan\n",
      "Train Epoch: 1 [18560/30016 (62%)]\tLoss: nan\n",
      "Train Epoch: 1 [19200/30016 (64%)]\tLoss: nan\n",
      "Train Epoch: 1 [19840/30016 (66%)]\tLoss: nan\n",
      "Train Epoch: 1 [20480/30016 (68%)]\tLoss: nan\n",
      "Train Epoch: 1 [21120/30016 (70%)]\tLoss: nan\n",
      "Train Epoch: 1 [21760/30016 (72%)]\tLoss: nan\n",
      "Train Epoch: 1 [22400/30016 (75%)]\tLoss: nan\n",
      "Train Epoch: 1 [23040/30016 (77%)]\tLoss: nan\n",
      "Train Epoch: 1 [23680/30016 (79%)]\tLoss: nan\n",
      "Train Epoch: 1 [24320/30016 (81%)]\tLoss: nan\n",
      "Train Epoch: 1 [24960/30016 (83%)]\tLoss: nan\n",
      "Train Epoch: 1 [25600/30016 (85%)]\tLoss: nan\n",
      "Train Epoch: 1 [26240/30016 (87%)]\tLoss: nan\n",
      "Train Epoch: 1 [26880/30016 (90%)]\tLoss: nan\n",
      "Train Epoch: 1 [27520/30016 (92%)]\tLoss: nan\n",
      "Train Epoch: 1 [28160/30016 (94%)]\tLoss: nan\n",
      "Train Epoch: 1 [28800/30016 (96%)]\tLoss: nan\n",
      "Train Epoch: 1 [29440/30016 (98%)]\tLoss: nan\n",
      "\n",
      "Test set: Avg. loss: nan, Accuracy: 980/30016 (3%)\n",
      "\n",
      "Train Epoch: 2 [0/30016 (0%)]\tLoss: nan\n",
      "Train Epoch: 2 [640/30016 (2%)]\tLoss: nan\n",
      "Train Epoch: 2 [1280/30016 (4%)]\tLoss: nan\n",
      "Train Epoch: 2 [1920/30016 (6%)]\tLoss: nan\n",
      "Train Epoch: 2 [2560/30016 (9%)]\tLoss: nan\n",
      "Train Epoch: 2 [3200/30016 (11%)]\tLoss: nan\n",
      "Train Epoch: 2 [3840/30016 (13%)]\tLoss: nan\n",
      "Train Epoch: 2 [4480/30016 (15%)]\tLoss: nan\n",
      "Train Epoch: 2 [5120/30016 (17%)]\tLoss: nan\n",
      "Train Epoch: 2 [5760/30016 (19%)]\tLoss: nan\n",
      "Train Epoch: 2 [6400/30016 (21%)]\tLoss: nan\n",
      "Train Epoch: 2 [7040/30016 (23%)]\tLoss: nan\n",
      "Train Epoch: 2 [7680/30016 (26%)]\tLoss: nan\n",
      "Train Epoch: 2 [8320/30016 (28%)]\tLoss: nan\n",
      "Train Epoch: 2 [8960/30016 (30%)]\tLoss: nan\n",
      "Train Epoch: 2 [9600/30016 (32%)]\tLoss: nan\n",
      "Train Epoch: 2 [10240/30016 (34%)]\tLoss: nan\n",
      "Train Epoch: 2 [10880/30016 (36%)]\tLoss: nan\n",
      "Train Epoch: 2 [11520/30016 (38%)]\tLoss: nan\n",
      "Train Epoch: 2 [12160/30016 (41%)]\tLoss: nan\n",
      "Train Epoch: 2 [12800/30016 (43%)]\tLoss: nan\n",
      "Train Epoch: 2 [13440/30016 (45%)]\tLoss: nan\n",
      "Train Epoch: 2 [14080/30016 (47%)]\tLoss: nan\n",
      "Train Epoch: 2 [14720/30016 (49%)]\tLoss: nan\n",
      "Train Epoch: 2 [15360/30016 (51%)]\tLoss: nan\n",
      "Train Epoch: 2 [16000/30016 (53%)]\tLoss: nan\n",
      "Train Epoch: 2 [16640/30016 (55%)]\tLoss: nan\n",
      "Train Epoch: 2 [17280/30016 (58%)]\tLoss: nan\n",
      "Train Epoch: 2 [17920/30016 (60%)]\tLoss: nan\n",
      "Train Epoch: 2 [18560/30016 (62%)]\tLoss: nan\n",
      "Train Epoch: 2 [19200/30016 (64%)]\tLoss: nan\n",
      "Train Epoch: 2 [19840/30016 (66%)]\tLoss: nan\n",
      "Train Epoch: 2 [20480/30016 (68%)]\tLoss: nan\n",
      "Train Epoch: 2 [21120/30016 (70%)]\tLoss: nan\n",
      "Train Epoch: 2 [21760/30016 (72%)]\tLoss: nan\n",
      "Train Epoch: 2 [22400/30016 (75%)]\tLoss: nan\n",
      "Train Epoch: 2 [23040/30016 (77%)]\tLoss: nan\n",
      "Train Epoch: 2 [23680/30016 (79%)]\tLoss: nan\n",
      "Train Epoch: 2 [24320/30016 (81%)]\tLoss: nan\n",
      "Train Epoch: 2 [24960/30016 (83%)]\tLoss: nan\n",
      "Train Epoch: 2 [25600/30016 (85%)]\tLoss: nan\n",
      "Train Epoch: 2 [26240/30016 (87%)]\tLoss: nan\n",
      "Train Epoch: 2 [26880/30016 (90%)]\tLoss: nan\n",
      "Train Epoch: 2 [27520/30016 (92%)]\tLoss: nan\n",
      "Train Epoch: 2 [28160/30016 (94%)]\tLoss: nan\n",
      "Train Epoch: 2 [28800/30016 (96%)]\tLoss: nan\n",
      "Train Epoch: 2 [29440/30016 (98%)]\tLoss: nan\n",
      "\n",
      "Test set: Avg. loss: nan, Accuracy: 980/30016 (3%)\n",
      "\n",
      "Train Epoch: 3 [0/30016 (0%)]\tLoss: nan\n",
      "Train Epoch: 3 [640/30016 (2%)]\tLoss: nan\n",
      "Train Epoch: 3 [1280/30016 (4%)]\tLoss: nan\n",
      "Train Epoch: 3 [1920/30016 (6%)]\tLoss: nan\n",
      "Train Epoch: 3 [2560/30016 (9%)]\tLoss: nan\n",
      "Train Epoch: 3 [3200/30016 (11%)]\tLoss: nan\n",
      "Train Epoch: 3 [3840/30016 (13%)]\tLoss: nan\n",
      "Train Epoch: 3 [4480/30016 (15%)]\tLoss: nan\n",
      "Train Epoch: 3 [5120/30016 (17%)]\tLoss: nan\n",
      "Train Epoch: 3 [5760/30016 (19%)]\tLoss: nan\n",
      "Train Epoch: 3 [6400/30016 (21%)]\tLoss: nan\n",
      "Train Epoch: 3 [7040/30016 (23%)]\tLoss: nan\n",
      "Train Epoch: 3 [7680/30016 (26%)]\tLoss: nan\n",
      "Train Epoch: 3 [8320/30016 (28%)]\tLoss: nan\n",
      "Train Epoch: 3 [8960/30016 (30%)]\tLoss: nan\n",
      "Train Epoch: 3 [9600/30016 (32%)]\tLoss: nan\n",
      "Train Epoch: 3 [10240/30016 (34%)]\tLoss: nan\n",
      "Train Epoch: 3 [10880/30016 (36%)]\tLoss: nan\n",
      "Train Epoch: 3 [11520/30016 (38%)]\tLoss: nan\n",
      "Train Epoch: 3 [12160/30016 (41%)]\tLoss: nan\n",
      "Train Epoch: 3 [12800/30016 (43%)]\tLoss: nan\n",
      "Train Epoch: 3 [13440/30016 (45%)]\tLoss: nan\n",
      "Train Epoch: 3 [14080/30016 (47%)]\tLoss: nan\n",
      "Train Epoch: 3 [14720/30016 (49%)]\tLoss: nan\n",
      "Train Epoch: 3 [15360/30016 (51%)]\tLoss: nan\n",
      "Train Epoch: 3 [16000/30016 (53%)]\tLoss: nan\n",
      "Train Epoch: 3 [16640/30016 (55%)]\tLoss: nan\n",
      "Train Epoch: 3 [17280/30016 (58%)]\tLoss: nan\n",
      "Train Epoch: 3 [17920/30016 (60%)]\tLoss: nan\n",
      "Train Epoch: 3 [18560/30016 (62%)]\tLoss: nan\n",
      "Train Epoch: 3 [19200/30016 (64%)]\tLoss: nan\n",
      "Train Epoch: 3 [19840/30016 (66%)]\tLoss: nan\n",
      "Train Epoch: 3 [20480/30016 (68%)]\tLoss: nan\n",
      "Train Epoch: 3 [21120/30016 (70%)]\tLoss: nan\n",
      "Train Epoch: 3 [21760/30016 (72%)]\tLoss: nan\n",
      "Train Epoch: 3 [22400/30016 (75%)]\tLoss: nan\n",
      "Train Epoch: 3 [23040/30016 (77%)]\tLoss: nan\n",
      "Train Epoch: 3 [23680/30016 (79%)]\tLoss: nan\n",
      "Train Epoch: 3 [24320/30016 (81%)]\tLoss: nan\n",
      "Train Epoch: 3 [24960/30016 (83%)]\tLoss: nan\n",
      "Train Epoch: 3 [25600/30016 (85%)]\tLoss: nan\n",
      "Train Epoch: 3 [26240/30016 (87%)]\tLoss: nan\n",
      "Train Epoch: 3 [26880/30016 (90%)]\tLoss: nan\n",
      "Train Epoch: 3 [27520/30016 (92%)]\tLoss: nan\n",
      "Train Epoch: 3 [28160/30016 (94%)]\tLoss: nan\n",
      "Train Epoch: 3 [28800/30016 (96%)]\tLoss: nan\n",
      "Train Epoch: 3 [29440/30016 (98%)]\tLoss: nan\n",
      "\n",
      "Test set: Avg. loss: nan, Accuracy: 980/30016 (3%)\n",
      "\n"
     ]
    }
   ],
   "source": [
    "test_update()\n",
    "for epoch in range(1, n_epochs + 1):\n",
    "    train_update(epoch)\n",
    "    test_update()"
   ]
  },
  {
   "cell_type": "code",
   "execution_count": 20,
   "metadata": {},
   "outputs": [
    {
     "data": {
      "image/png": "[encoded data removed]",
      "text/plain": [
       "<Figure size 432x288 with 1 Axes>"
      ]
     },
     "execution_count": 20,
     "metadata": {},
     "output_type": "execute_result"
    },
    {
     "data": {
      "image/png": "[encoded data removed]",
      "text/plain": [
       "<Figure size 432x288 with 1 Axes>"
      ]
     },
     "metadata": {
      "needs_background": "light"
     },
     "output_type": "display_data"
    }
   ],
   "source": [
    "fig = plt.figure()\n",
    "plt.plot(update_train_counter, update_train_losses, color='blue')\n",
    "plt.scatter(update_test_counter, update_test_losses, color='red')\n",
    "plt.legend(['Train Loss', 'Test Loss'], loc='upper right')\n",
    "plt.xlabel('number of training examples seen')\n",
    "plt.ylabel('negative log likelihood loss')\n",
    "fig"
   ]
  },
  {
   "cell_type": "code",
   "execution_count": 21,
   "metadata": {},
   "outputs": [
    {
     "data": {
      "text/plain": [
       "Net(\n",
       "  (conv1): Conv2d(1, 10, kernel_size=(5, 5), stride=(1, 1))\n",
       "  (conv2): Conv2d(10, 20, kernel_size=(5, 5), stride=(1, 1))\n",
       "  (conv2_drop): Dropout2d(p=0.5, inplace=False)\n",
       "  (fc1): Linear(in_features=320, out_features=50, bias=True)\n",
       "  (fc2): Linear(in_features=50, out_features=10, bias=True)\n",
       ")"
      ]
     },
     "execution_count": 21,
     "metadata": {},
     "output_type": "execute_result"
    }
   ],
   "source": [
    "h2.eval()\n",
    "h1.eval()"
   ]
  },
  {
   "cell_type": "code",
   "execution_count": 22,
   "metadata": {},
   "outputs": [],
   "source": [
    "test_index = 2"
   ]
  },
  {
   "cell_type": "code",
   "execution_count": 23,
   "metadata": {},
   "outputs": [],
   "source": [
    "with torch.no_grad():\n",
    "    _, _, h1_output = h1(test_loader[test_index][0])\n",
    "    _, _, h2_output = h2(test_loader[test_index][0])"
   ]
  },
  {
   "cell_type": "code",
   "execution_count": 24,
   "metadata": {},
   "outputs": [],
   "source": [
    "h1_labels = h1_output.data.max(1)[1]\n",
    "h2_labels = h2_output.data.max(1)[1]\n",
    "expected_labels = test_loader[test_index][1]"
   ]
  },
  {
   "cell_type": "code",
   "execution_count": 25,
   "metadata": {},
   "outputs": [
    {
     "data": {
      "image/png": "[encoded data removed]",
      "text/plain": [
       "<Figure size 432x288 with 6 Axes>"
      ]
     },
     "execution_count": 25,
     "metadata": {},
     "output_type": "execute_result"
    },
    {
     "data": {
      "image/png": "[encoded data removed]",
      "text/plain": [
       "<Figure size 432x288 with 6 Axes>"
      ]
     },
     "metadata": {},
     "output_type": "display_data"
    }
   ],
   "source": [
    "fig = plt.figure()\n",
    "for i in range(6):\n",
    "    plt.subplot(2,3,i+1)\n",
    "    plt.tight_layout()\n",
    "    plt.imshow(test_loader[test_index][0][i][0], cmap='gray', interpolation='none')\n",
    "    plt.title(\"Prediction: {}\".format(\n",
    "        h2_labels[i].item()))\n",
    "    plt.xticks([])\n",
    "    plt.yticks([])\n",
    "fig"
   ]
  },
  {
   "cell_type": "code",
   "execution_count": 26,
   "metadata": {},
   "outputs": [
    {
     "name": "stdout",
     "output_type": "stream",
     "text": [
      "Error Compatibility Score: 0.9787234042553191\n",
      "Trust Compatibility Score: 0.1049317943336831\n"
     ]
    }
   ],
   "source": [
    "trust_compatibility = scores.trust_compatibility_score(h1_labels, h2_labels, expected_labels)\n",
    "error_compatibility = scores.error_compatibility_score(h1_labels, h2_labels, expected_labels)\n",
    "\n",
    "print(f\"Error Compatibility Score: {error_compatibility}\")\n",
    "print(f\"Trust Compatibility Score: {trust_compatibility}\")"
   ]
  },
  {
   "cell_type": "code",
   "execution_count": null,
   "metadata": {},
   "outputs": [],
   "source": []
  }
 ],
 "metadata": {
  "kernelspec": {
   "display_name": "Python 3",
   "language": "python",
   "name": "python3"
  },
  "language_info": {
   "codemirror_mode": {
    "name": "ipython",
    "version": 3
   },
   "file_extension": ".py",
   "mimetype": "text/x-python",
   "name": "python",
   "nbconvert_exporter": "python",
   "pygments_lexer": "ipython3",
   "version": "3.6.9"
  }
 },
 "nbformat": 4,
 "nbformat_minor": 4
}
