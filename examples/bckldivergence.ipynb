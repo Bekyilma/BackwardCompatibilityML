{
 "cells": [
  {
   "cell_type": "code",
   "execution_count": 1,
   "metadata": {},
   "outputs": [],
   "source": [
    "import torch\n",
    "import torchvision\n",
    "import torch.nn as nn\n",
    "import torch.nn.functional as F\n",
    "import torch.optim as optim\n",
    "import matplotlib.pyplot as plt\n",
    "import random\n",
    "\n",
    "import backwardcompatibilityml.loss as bcloss\n",
    "import backwardcompatibilityml.scores as scores\n",
    "from backwardcompatibilityml.helpers import utils\n",
    "\n",
    "# Initialize random seed\n",
    "random.seed(123)\n",
    "torch.manual_seed(456)\n",
    "torch.backends.cudnn.deterministic = True\n",
    "torch.backends.cudnn.benchmark = False\n",
    "\n",
    "%matplotlib inline"
   ]
  },
  {
   "cell_type": "code",
   "execution_count": 2,
   "metadata": {},
   "outputs": [],
   "source": [
    "n_epochs = 3\n",
    "batch_size_train = 64\n",
    "batch_size_test = 1000\n",
    "learning_rate = 0.05\n",
    "momentum = 0.5\n",
    "log_interval = 10\n",
    "\n",
    "torch.backends.cudnn.enabled = False"
   ]
  },
  {
   "cell_type": "code",
   "execution_count": 3,
   "metadata": {},
   "outputs": [],
   "source": [
    "train_loader = list(torch.utils.data.DataLoader(\n",
    "  torchvision.datasets.MNIST('datasets/', train=True, download=True,\n",
    "                             transform=torchvision.transforms.Compose([\n",
    "                               torchvision.transforms.ToTensor(),\n",
    "                               torchvision.transforms.Normalize(\n",
    "                                 (0.1307,), (0.3081,))\n",
    "                             ])),\n",
    "  batch_size=batch_size_train, shuffle=True))\n",
    "\n",
    "test_loader = list(torch.utils.data.DataLoader(\n",
    "  torchvision.datasets.MNIST('datasets/', train=False, download=True,\n",
    "                             transform=torchvision.transforms.Compose([\n",
    "                               torchvision.transforms.ToTensor(),\n",
    "                               torchvision.transforms.Normalize(\n",
    "                                 (0.1307,), (0.3081,))\n",
    "                             ])),\n",
    "  batch_size=batch_size_test, shuffle=True))"
   ]
  },
  {
   "cell_type": "code",
   "execution_count": 4,
   "metadata": {},
   "outputs": [],
   "source": [
    "train_loader_a = train_loader[:int(len(train_loader)/2)]\n",
    "train_loader_b = train_loader[int(len(train_loader)/2):]"
   ]
  },
  {
   "cell_type": "code",
   "execution_count": 5,
   "metadata": {},
   "outputs": [
    {
     "data": {
      "image/png": "[encoded data removed]",
      "text/plain": [
       "<Figure size 432x288 with 6 Axes>"
      ]
     },
     "execution_count": 5,
     "metadata": {},
     "output_type": "execute_result"
    },
    {
     "data": {
      "image/png": "[encoded data removed]",
      "text/plain": [
       "<Figure size 432x288 with 6 Axes>"
      ]
     },
     "metadata": {},
     "output_type": "display_data"
    }
   ],
   "source": [
    "fig = plt.figure()\n",
    "for i in range(6):\n",
    "    plt.subplot(2,3,i+1)\n",
    "    plt.tight_layout()\n",
    "    plt.imshow(train_loader_a[0][0][i][0], cmap='gray', interpolation='none')\n",
    "    plt.title(\"Ground Truth: {}\".format(train_loader_a[0][1][i]))\n",
    "    plt.xticks([])\n",
    "    plt.yticks([])\n",
    "fig"
   ]
  },
  {
   "cell_type": "code",
   "execution_count": 6,
   "metadata": {},
   "outputs": [],
   "source": [
    "class Net(nn.Module):\n",
    "    def __init__(self):\n",
    "        super(Net, self).__init__()\n",
    "        self.conv1 = nn.Conv2d(1, 10, kernel_size=5)\n",
    "        self.conv2 = nn.Conv2d(10, 20, kernel_size=5)\n",
    "        self.conv2_drop = nn.Dropout2d()\n",
    "        self.fc1 = nn.Linear(320, 50)\n",
    "        self.fc2 = nn.Linear(50, 10)\n",
    "\n",
    "    def forward(self, x):\n",
    "        x = F.relu(F.max_pool2d(self.conv1(x), 2))\n",
    "        x = F.relu(F.max_pool2d(self.conv2_drop(self.conv2(x)), 2))\n",
    "        x = x.view(-1, 320)\n",
    "        x = F.relu(self.fc1(x))\n",
    "        x = F.dropout(x, training=self.training)\n",
    "        x = self.fc2(x)\n",
    "        return x, F.softmax(x, dim=1), F.log_softmax(x, dim=1)"
   ]
  },
  {
   "cell_type": "code",
   "execution_count": 7,
   "metadata": {},
   "outputs": [],
   "source": [
    "network = Net()\n",
    "optimizer = optim.SGD(network.parameters(), lr=learning_rate, momentum=momentum)"
   ]
  },
  {
   "cell_type": "code",
   "execution_count": 8,
   "metadata": {},
   "outputs": [],
   "source": [
    "train_losses = []\n",
    "train_counter = []\n",
    "test_losses = []\n",
    "test_counter = [i*len(train_loader_a)*batch_size_train for i in range(n_epochs + 1)]"
   ]
  },
  {
   "cell_type": "code",
   "execution_count": 9,
   "metadata": {},
   "outputs": [],
   "source": [
    "def train(epoch):\n",
    "    network.train()\n",
    "    for batch_idx, (data, target) in enumerate(train_loader_a):\n",
    "        optimizer.zero_grad()\n",
    "        _, _, output = network(data)\n",
    "        loss = F.nll_loss(output, target)\n",
    "        loss.backward()\n",
    "        optimizer.step()\n",
    "        if batch_idx % log_interval == 0:\n",
    "            print('Train Epoch: {} [{}/{} ({:.0f}%)]\\tLoss: {:.6f}'.format(\n",
    "                epoch, batch_idx * len(data), len(train_loader_a)*batch_size_train,\n",
    "                100. * batch_idx / len(train_loader_a), loss.item()))\n",
    "            train_losses.append(loss.item())\n",
    "            train_counter.append(\n",
    "                (batch_idx*64) + ((epoch-1)*len(train_loader_a)*batch_size_train))"
   ]
  },
  {
   "cell_type": "code",
   "execution_count": 10,
   "metadata": {},
   "outputs": [],
   "source": [
    "def test():\n",
    "    network.eval()\n",
    "    test_loss = 0\n",
    "    correct = 0\n",
    "    with torch.no_grad():\n",
    "        for data, target in test_loader:\n",
    "            _, _, output = network(data)\n",
    "            test_loss += F.kl_div(output, utils.labels_to_probabilities(target, 10, batch_size_test), reduction=\"sum\").item()\n",
    "            pred = output.data.max(1, keepdim=True)[1]\n",
    "            correct += pred.eq(target.data.view_as(pred)).sum()\n",
    "        test_loss /= len(train_loader_a)*batch_size_train\n",
    "        test_losses.append(test_loss)\n",
    "        print('\\nTest set: Avg. loss: {:.4f}, Accuracy: {}/{} ({:.0f}%)\\n'.format(\n",
    "            test_loss, correct, len(train_loader_a)*batch_size_train,\n",
    "            100. * correct / (len(train_loader_a)*batch_size_train)))"
   ]
  },
  {
   "cell_type": "code",
   "execution_count": 11,
   "metadata": {},
   "outputs": [
    {
     "name": "stdout",
     "output_type": "stream",
     "text": [
      "\n",
      "Test set: Avg. loss: 0.7645, Accuracy: 1359/30016 (5%)\n",
      "\n",
      "Train Epoch: 1 [0/30016 (0%)]\tLoss: 2.338004\n",
      "Train Epoch: 1 [640/30016 (2%)]\tLoss: 2.230185\n",
      "Train Epoch: 1 [1280/30016 (4%)]\tLoss: 2.100596\n",
      "Train Epoch: 1 [1920/30016 (6%)]\tLoss: 1.641219\n",
      "Train Epoch: 1 [2560/30016 (9%)]\tLoss: 1.448467\n",
      "Train Epoch: 1 [3200/30016 (11%)]\tLoss: 1.091927\n",
      "Train Epoch: 1 [3840/30016 (13%)]\tLoss: 0.987171\n",
      "Train Epoch: 1 [4480/30016 (15%)]\tLoss: 0.928289\n",
      "Train Epoch: 1 [5120/30016 (17%)]\tLoss: 0.659396\n",
      "Train Epoch: 1 [5760/30016 (19%)]\tLoss: 0.816503\n",
      "Train Epoch: 1 [6400/30016 (21%)]\tLoss: 0.655987\n",
      "Train Epoch: 1 [7040/30016 (23%)]\tLoss: 0.702386\n",
      "Train Epoch: 1 [7680/30016 (26%)]\tLoss: 0.863477\n",
      "Train Epoch: 1 [8320/30016 (28%)]\tLoss: 0.943389\n",
      "Train Epoch: 1 [8960/30016 (30%)]\tLoss: 0.575245\n",
      "Train Epoch: 1 [9600/30016 (32%)]\tLoss: 0.804478\n",
      "Train Epoch: 1 [10240/30016 (34%)]\tLoss: 0.473363\n",
      "Train Epoch: 1 [10880/30016 (36%)]\tLoss: 0.746119\n",
      "Train Epoch: 1 [11520/30016 (38%)]\tLoss: 0.631224\n",
      "Train Epoch: 1 [12160/30016 (41%)]\tLoss: 0.546830\n",
      "Train Epoch: 1 [12800/30016 (43%)]\tLoss: 0.505355\n",
      "Train Epoch: 1 [13440/30016 (45%)]\tLoss: 0.366419\n",
      "Train Epoch: 1 [14080/30016 (47%)]\tLoss: 0.514602\n",
      "Train Epoch: 1 [14720/30016 (49%)]\tLoss: 0.429740\n",
      "Train Epoch: 1 [15360/30016 (51%)]\tLoss: 0.492646\n",
      "Train Epoch: 1 [16000/30016 (53%)]\tLoss: 0.395570\n",
      "Train Epoch: 1 [16640/30016 (55%)]\tLoss: 0.469228\n",
      "Train Epoch: 1 [17280/30016 (58%)]\tLoss: 0.727033\n",
      "Train Epoch: 1 [17920/30016 (60%)]\tLoss: 0.288260\n",
      "Train Epoch: 1 [18560/30016 (62%)]\tLoss: 0.686004\n",
      "Train Epoch: 1 [19200/30016 (64%)]\tLoss: 0.497409\n",
      "Train Epoch: 1 [19840/30016 (66%)]\tLoss: 0.466911\n",
      "Train Epoch: 1 [20480/30016 (68%)]\tLoss: 0.450924\n",
      "Train Epoch: 1 [21120/30016 (70%)]\tLoss: 0.317609\n",
      "Train Epoch: 1 [21760/30016 (72%)]\tLoss: 0.612812\n",
      "Train Epoch: 1 [22400/30016 (75%)]\tLoss: 0.322844\n",
      "Train Epoch: 1 [23040/30016 (77%)]\tLoss: 0.476757\n",
      "Train Epoch: 1 [23680/30016 (79%)]\tLoss: 0.626702\n",
      "Train Epoch: 1 [24320/30016 (81%)]\tLoss: 0.396082\n",
      "Train Epoch: 1 [24960/30016 (83%)]\tLoss: 0.484580\n",
      "Train Epoch: 1 [25600/30016 (85%)]\tLoss: 0.340186\n",
      "Train Epoch: 1 [26240/30016 (87%)]\tLoss: 0.248731\n",
      "Train Epoch: 1 [26880/30016 (90%)]\tLoss: 0.442669\n",
      "Train Epoch: 1 [27520/30016 (92%)]\tLoss: 0.277780\n",
      "Train Epoch: 1 [28160/30016 (94%)]\tLoss: 0.451290\n",
      "Train Epoch: 1 [28800/30016 (96%)]\tLoss: 0.481116\n",
      "Train Epoch: 1 [29440/30016 (98%)]\tLoss: 0.285265\n",
      "\n",
      "Test set: Avg. loss: 0.0464, Accuracy: 9580/30016 (32%)\n",
      "\n",
      "Train Epoch: 2 [0/30016 (0%)]\tLoss: 0.467563\n",
      "Train Epoch: 2 [640/30016 (2%)]\tLoss: 0.404308\n",
      "Train Epoch: 2 [1280/30016 (4%)]\tLoss: 0.402769\n",
      "Train Epoch: 2 [1920/30016 (6%)]\tLoss: 0.386625\n",
      "Train Epoch: 2 [2560/30016 (9%)]\tLoss: 0.284753\n",
      "Train Epoch: 2 [3200/30016 (11%)]\tLoss: 0.370857\n",
      "Train Epoch: 2 [3840/30016 (13%)]\tLoss: 0.383263\n",
      "Train Epoch: 2 [4480/30016 (15%)]\tLoss: 0.256959\n",
      "Train Epoch: 2 [5120/30016 (17%)]\tLoss: 0.220389\n",
      "Train Epoch: 2 [5760/30016 (19%)]\tLoss: 0.299224\n",
      "Train Epoch: 2 [6400/30016 (21%)]\tLoss: 0.278010\n",
      "Train Epoch: 2 [7040/30016 (23%)]\tLoss: 0.317218\n",
      "Train Epoch: 2 [7680/30016 (26%)]\tLoss: 0.374673\n",
      "Train Epoch: 2 [8320/30016 (28%)]\tLoss: 0.416898\n",
      "Train Epoch: 2 [8960/30016 (30%)]\tLoss: 0.444055\n",
      "Train Epoch: 2 [9600/30016 (32%)]\tLoss: 0.421639\n",
      "Train Epoch: 2 [10240/30016 (34%)]\tLoss: 0.226542\n",
      "Train Epoch: 2 [10880/30016 (36%)]\tLoss: 0.397634\n",
      "Train Epoch: 2 [11520/30016 (38%)]\tLoss: 0.431244\n",
      "Train Epoch: 2 [12160/30016 (41%)]\tLoss: 0.246994\n",
      "Train Epoch: 2 [12800/30016 (43%)]\tLoss: 0.326454\n",
      "Train Epoch: 2 [13440/30016 (45%)]\tLoss: 0.240785\n",
      "Train Epoch: 2 [14080/30016 (47%)]\tLoss: 0.230436\n",
      "Train Epoch: 2 [14720/30016 (49%)]\tLoss: 0.307314\n",
      "Train Epoch: 2 [15360/30016 (51%)]\tLoss: 0.310635\n",
      "Train Epoch: 2 [16000/30016 (53%)]\tLoss: 0.245079\n",
      "Train Epoch: 2 [16640/30016 (55%)]\tLoss: 0.229504\n",
      "Train Epoch: 2 [17280/30016 (58%)]\tLoss: 0.445008\n",
      "Train Epoch: 2 [17920/30016 (60%)]\tLoss: 0.219871\n",
      "Train Epoch: 2 [18560/30016 (62%)]\tLoss: 0.591680\n",
      "Train Epoch: 2 [19200/30016 (64%)]\tLoss: 0.248011\n",
      "Train Epoch: 2 [19840/30016 (66%)]\tLoss: 0.211461\n",
      "Train Epoch: 2 [20480/30016 (68%)]\tLoss: 0.187952\n",
      "Train Epoch: 2 [21120/30016 (70%)]\tLoss: 0.203783\n",
      "Train Epoch: 2 [21760/30016 (72%)]\tLoss: 0.483964\n",
      "Train Epoch: 2 [22400/30016 (75%)]\tLoss: 0.176211\n",
      "Train Epoch: 2 [23040/30016 (77%)]\tLoss: 0.314358\n",
      "Train Epoch: 2 [23680/30016 (79%)]\tLoss: 0.262187\n",
      "Train Epoch: 2 [24320/30016 (81%)]\tLoss: 0.380898\n",
      "Train Epoch: 2 [24960/30016 (83%)]\tLoss: 0.649262\n",
      "Train Epoch: 2 [25600/30016 (85%)]\tLoss: 0.240825\n",
      "Train Epoch: 2 [26240/30016 (87%)]\tLoss: 0.197022\n",
      "Train Epoch: 2 [26880/30016 (90%)]\tLoss: 0.224493\n",
      "Train Epoch: 2 [27520/30016 (92%)]\tLoss: 0.138238\n",
      "Train Epoch: 2 [28160/30016 (94%)]\tLoss: 0.254694\n",
      "Train Epoch: 2 [28800/30016 (96%)]\tLoss: 0.557891\n",
      "Train Epoch: 2 [29440/30016 (98%)]\tLoss: 0.300959\n",
      "\n",
      "Test set: Avg. loss: 0.0327, Accuracy: 9699/30016 (32%)\n",
      "\n",
      "Train Epoch: 3 [0/30016 (0%)]\tLoss: 0.253704\n",
      "Train Epoch: 3 [640/30016 (2%)]\tLoss: 0.502492\n",
      "Train Epoch: 3 [1280/30016 (4%)]\tLoss: 0.387389\n",
      "Train Epoch: 3 [1920/30016 (6%)]\tLoss: 0.185318\n",
      "Train Epoch: 3 [2560/30016 (9%)]\tLoss: 0.193201\n",
      "Train Epoch: 3 [3200/30016 (11%)]\tLoss: 0.188729\n",
      "Train Epoch: 3 [3840/30016 (13%)]\tLoss: 0.387146\n",
      "Train Epoch: 3 [4480/30016 (15%)]\tLoss: 0.229799\n",
      "Train Epoch: 3 [5120/30016 (17%)]\tLoss: 0.168720\n",
      "Train Epoch: 3 [5760/30016 (19%)]\tLoss: 0.160045\n",
      "Train Epoch: 3 [6400/30016 (21%)]\tLoss: 0.208645\n",
      "Train Epoch: 3 [7040/30016 (23%)]\tLoss: 0.177707\n",
      "Train Epoch: 3 [7680/30016 (26%)]\tLoss: 0.210245\n",
      "Train Epoch: 3 [8320/30016 (28%)]\tLoss: 0.292710\n",
      "Train Epoch: 3 [8960/30016 (30%)]\tLoss: 0.449413\n",
      "Train Epoch: 3 [9600/30016 (32%)]\tLoss: 0.192444\n",
      "Train Epoch: 3 [10240/30016 (34%)]\tLoss: 0.138621\n",
      "Train Epoch: 3 [10880/30016 (36%)]\tLoss: 0.295429\n",
      "Train Epoch: 3 [11520/30016 (38%)]\tLoss: 0.256295\n",
      "Train Epoch: 3 [12160/30016 (41%)]\tLoss: 0.154773\n",
      "Train Epoch: 3 [12800/30016 (43%)]\tLoss: 0.088889\n",
      "Train Epoch: 3 [13440/30016 (45%)]\tLoss: 0.224489\n",
      "Train Epoch: 3 [14080/30016 (47%)]\tLoss: 0.284094\n",
      "Train Epoch: 3 [14720/30016 (49%)]\tLoss: 0.342453\n",
      "Train Epoch: 3 [15360/30016 (51%)]\tLoss: 0.279295\n",
      "Train Epoch: 3 [16000/30016 (53%)]\tLoss: 0.183930\n",
      "Train Epoch: 3 [16640/30016 (55%)]\tLoss: 0.236621\n",
      "Train Epoch: 3 [17280/30016 (58%)]\tLoss: 0.307039\n",
      "Train Epoch: 3 [17920/30016 (60%)]\tLoss: 0.165631\n",
      "Train Epoch: 3 [18560/30016 (62%)]\tLoss: 0.216192\n",
      "Train Epoch: 3 [19200/30016 (64%)]\tLoss: 0.240767\n",
      "Train Epoch: 3 [19840/30016 (66%)]\tLoss: 0.244652\n",
      "Train Epoch: 3 [20480/30016 (68%)]\tLoss: 0.269645\n",
      "Train Epoch: 3 [21120/30016 (70%)]\tLoss: 0.254442\n",
      "Train Epoch: 3 [21760/30016 (72%)]\tLoss: 0.411860\n",
      "Train Epoch: 3 [22400/30016 (75%)]\tLoss: 0.202459\n",
      "Train Epoch: 3 [23040/30016 (77%)]\tLoss: 0.483783\n",
      "Train Epoch: 3 [23680/30016 (79%)]\tLoss: 0.280569\n",
      "Train Epoch: 3 [24320/30016 (81%)]\tLoss: 0.300674\n",
      "Train Epoch: 3 [24960/30016 (83%)]\tLoss: 0.167207\n",
      "Train Epoch: 3 [25600/30016 (85%)]\tLoss: 0.331000\n",
      "Train Epoch: 3 [26240/30016 (87%)]\tLoss: 0.097583\n",
      "Train Epoch: 3 [26880/30016 (90%)]\tLoss: 0.263732\n",
      "Train Epoch: 3 [27520/30016 (92%)]\tLoss: 0.155537\n",
      "Train Epoch: 3 [28160/30016 (94%)]\tLoss: 0.294144\n",
      "Train Epoch: 3 [28800/30016 (96%)]\tLoss: 0.346279\n",
      "Train Epoch: 3 [29440/30016 (98%)]\tLoss: 0.243329\n",
      "\n",
      "Test set: Avg. loss: 0.0295, Accuracy: 9726/30016 (32%)\n",
      "\n"
     ]
    }
   ],
   "source": [
    "test()\n",
    "for epoch in range(1, n_epochs + 1):\n",
    "    train(epoch)\n",
    "    test()"
   ]
  },
  {
   "cell_type": "code",
   "execution_count": 12,
   "metadata": {},
   "outputs": [
    {
     "data": {
      "image/png": "[encoded data removed]",
      "text/plain": [
       "<Figure size 432x288 with 1 Axes>"
      ]
     },
     "execution_count": 12,
     "metadata": {},
     "output_type": "execute_result"
    },
    {
     "data": {
      "image/png": "[encoded data removed]",
      "text/plain": [
       "<Figure size 432x288 with 1 Axes>"
      ]
     },
     "metadata": {
      "needs_background": "light"
     },
     "output_type": "display_data"
    }
   ],
   "source": [
    "fig = plt.figure()\n",
    "plt.plot(train_counter, train_losses, color='blue')\n",
    "plt.scatter(test_counter, test_losses, color='red')\n",
    "plt.legend(['Train Loss', 'Test Loss'], loc='upper right')\n",
    "plt.xlabel('number of training examples seen')\n",
    "plt.ylabel('negative log likelihood loss')\n",
    "fig"
   ]
  },
  {
   "cell_type": "code",
   "execution_count": 13,
   "metadata": {},
   "outputs": [],
   "source": [
    "with torch.no_grad():\n",
    "    _, _, output = network(test_loader[0][0])"
   ]
  },
  {
   "cell_type": "code",
   "execution_count": 14,
   "metadata": {},
   "outputs": [
    {
     "data": {
      "image/png": "[encoded data removed]",
      "text/plain": [
       "<Figure size 432x288 with 6 Axes>"
      ]
     },
     "execution_count": 14,
     "metadata": {},
     "output_type": "execute_result"
    },
    {
     "data": {
      "image/png": "[encoded data removed]",
      "text/plain": [
       "<Figure size 432x288 with 6 Axes>"
      ]
     },
     "metadata": {},
     "output_type": "display_data"
    }
   ],
   "source": [
    "fig = plt.figure()\n",
    "for i in range(6):\n",
    "    plt.subplot(2,3,i+1)\n",
    "    plt.tight_layout()\n",
    "    plt.imshow(test_loader[0][0][i][0], cmap='gray', interpolation='none')\n",
    "    plt.title(\"Prediction: {}\".format(\n",
    "        output.data.max(1, keepdim=True)[1][i].item()))\n",
    "    plt.xticks([])\n",
    "    plt.yticks([])\n",
    "fig"
   ]
  },
  {
   "cell_type": "code",
   "execution_count": 15,
   "metadata": {},
   "outputs": [],
   "source": [
    "import copy\n",
    "\n",
    "h1 = copy.deepcopy(network)\n",
    "h2 = copy.deepcopy(network)\n",
    "h1.eval()\n",
    "new_optimizer = optim.SGD(h2.parameters(), lr=learning_rate, momentum=momentum)\n",
    "lambda_c = 1.0\n",
    "bc_loss = bcloss.BCKLDivergenceLoss(h1, h2, lambda_c, num_classes=10)"
   ]
  },
  {
   "cell_type": "code",
   "execution_count": 20,
   "metadata": {},
   "outputs": [],
   "source": [
    "update_train_losses = []\n",
    "update_train_counter = []\n",
    "update_test_losses = []\n",
    "update_test_counter = [i*len(train_loader_b)*batch_size_train for i in range(n_epochs + 1)]"
   ]
  },
  {
   "cell_type": "code",
   "execution_count": 21,
   "metadata": {},
   "outputs": [],
   "source": [
    "def train_update(epoch):\n",
    "    for batch_idx, (data, target) in enumerate(train_loader_b):\n",
    "        new_optimizer.zero_grad()\n",
    "        loss = bc_loss(data, target, reduction=\"sum\")\n",
    "        loss.backward()\n",
    "        new_optimizer.step()\n",
    "        if batch_idx % log_interval == 0:\n",
    "            print('Train Epoch: {} [{}/{} ({:.0f}%)]\\tLoss: {:.6f}'.format(\n",
    "                epoch, batch_idx * len(data), len(train_loader_b)*batch_size_train,\n",
    "                100. * batch_idx / len(train_loader_b), loss.item()))\n",
    "            update_train_losses.append(loss.item())\n",
    "            update_train_counter.append(\n",
    "                (batch_idx*64) + ((epoch-1)*len(train_loader_b)*batch_size_train))"
   ]
  },
  {
   "cell_type": "code",
   "execution_count": 22,
   "metadata": {},
   "outputs": [],
   "source": [
    "def test_update():\n",
    "    h2.eval()\n",
    "    test_loss = 0\n",
    "    correct = 0\n",
    "    with torch.no_grad():\n",
    "        for data, target in test_loader:\n",
    "            _, _, output = h2(data)\n",
    "            test_loss += F.nll_loss(output, target, reduction=\"sum\").item()\n",
    "            pred = output.data.max(1, keepdim=True)[1]\n",
    "            correct += pred.eq(target.data.view_as(pred)).sum()\n",
    "    test_loss /= len(train_loader_b)*batch_size_train\n",
    "    update_test_losses.append(test_loss)\n",
    "    print('\\nTest set: Avg. loss: {:.4f}, Accuracy: {}/{} ({:.0f}%)\\n'.format(\n",
    "    test_loss, correct, len(train_loader_b)*batch_size_train,\n",
    "    100. * correct / (len(train_loader_b)*batch_size_train)))"
   ]
  },
  {
   "cell_type": "code",
   "execution_count": 23,
   "metadata": {},
   "outputs": [
    {
     "name": "stdout",
     "output_type": "stream",
     "text": [
      "\n",
      "Test set: Avg. loss: 0.0121, Accuracy: 9886/30016 (33%)\n",
      "\n",
      "Train Epoch: 1 [0/30016 (0%)]\tLoss: 0.103710\n",
      "Train Epoch: 1 [640/30016 (2%)]\tLoss: 268.706879\n",
      "Train Epoch: 1 [1280/30016 (4%)]\tLoss: 152.170456\n",
      "Train Epoch: 1 [1920/30016 (6%)]\tLoss: 151.705643\n",
      "Train Epoch: 1 [2560/30016 (9%)]\tLoss: 144.869308\n",
      "Train Epoch: 1 [3200/30016 (11%)]\tLoss: 149.812912\n",
      "Train Epoch: 1 [3840/30016 (13%)]\tLoss: 147.656708\n",
      "Train Epoch: 1 [4480/30016 (15%)]\tLoss: 144.495300\n",
      "Train Epoch: 1 [5120/30016 (17%)]\tLoss: 148.126282\n",
      "Train Epoch: 1 [5760/30016 (19%)]\tLoss: 151.763382\n",
      "Train Epoch: 1 [6400/30016 (21%)]\tLoss: 150.331924\n",
      "Train Epoch: 1 [7040/30016 (23%)]\tLoss: 149.487946\n",
      "Train Epoch: 1 [7680/30016 (26%)]\tLoss: 152.129242\n",
      "Train Epoch: 1 [8320/30016 (28%)]\tLoss: 150.044037\n",
      "Train Epoch: 1 [8960/30016 (30%)]\tLoss: 147.071243\n",
      "Train Epoch: 1 [9600/30016 (32%)]\tLoss: 148.087204\n",
      "Train Epoch: 1 [10240/30016 (34%)]\tLoss: 153.884155\n",
      "Train Epoch: 1 [10880/30016 (36%)]\tLoss: 149.015198\n",
      "Train Epoch: 1 [11520/30016 (38%)]\tLoss: 149.436554\n",
      "Train Epoch: 1 [12160/30016 (41%)]\tLoss: 149.723206\n",
      "Train Epoch: 1 [12800/30016 (43%)]\tLoss: 147.764450\n",
      "Train Epoch: 1 [13440/30016 (45%)]\tLoss: 155.627640\n",
      "Train Epoch: 1 [14080/30016 (47%)]\tLoss: 146.782745\n",
      "Train Epoch: 1 [14720/30016 (49%)]\tLoss: 146.154831\n",
      "Train Epoch: 1 [15360/30016 (51%)]\tLoss: 147.738510\n",
      "Train Epoch: 1 [16000/30016 (53%)]\tLoss: 149.666809\n",
      "Train Epoch: 1 [16640/30016 (55%)]\tLoss: 153.587585\n",
      "Train Epoch: 1 [17280/30016 (58%)]\tLoss: 148.642319\n",
      "Train Epoch: 1 [17920/30016 (60%)]\tLoss: 147.846802\n",
      "Train Epoch: 1 [18560/30016 (62%)]\tLoss: 151.421463\n",
      "Train Epoch: 1 [19200/30016 (64%)]\tLoss: 148.170807\n",
      "Train Epoch: 1 [19840/30016 (66%)]\tLoss: 148.394379\n",
      "Train Epoch: 1 [20480/30016 (68%)]\tLoss: 150.049728\n",
      "Train Epoch: 1 [21120/30016 (70%)]\tLoss: 149.265121\n",
      "Train Epoch: 1 [21760/30016 (72%)]\tLoss: 153.363556\n",
      "Train Epoch: 1 [22400/30016 (75%)]\tLoss: 148.799133\n",
      "Train Epoch: 1 [23040/30016 (77%)]\tLoss: 154.242737\n",
      "Train Epoch: 1 [23680/30016 (79%)]\tLoss: 146.040558\n",
      "Train Epoch: 1 [24320/30016 (81%)]\tLoss: 149.470840\n",
      "Train Epoch: 1 [24960/30016 (83%)]\tLoss: 150.145325\n",
      "Train Epoch: 1 [25600/30016 (85%)]\tLoss: 147.560959\n",
      "Train Epoch: 1 [26240/30016 (87%)]\tLoss: 149.417938\n",
      "Train Epoch: 1 [26880/30016 (90%)]\tLoss: 150.258728\n",
      "Train Epoch: 1 [27520/30016 (92%)]\tLoss: 147.067123\n",
      "Train Epoch: 1 [28160/30016 (94%)]\tLoss: 151.381119\n",
      "Train Epoch: 1 [28800/30016 (96%)]\tLoss: 150.379654\n",
      "Train Epoch: 1 [29440/30016 (98%)]\tLoss: 148.954178\n",
      "\n",
      "Test set: Avg. loss: 0.7720, Accuracy: 1135/30016 (4%)\n",
      "\n",
      "Train Epoch: 2 [0/30016 (0%)]\tLoss: 149.797897\n",
      "Train Epoch: 2 [640/30016 (2%)]\tLoss: 147.667175\n",
      "Train Epoch: 2 [1280/30016 (4%)]\tLoss: 145.847824\n",
      "Train Epoch: 2 [1920/30016 (6%)]\tLoss: 151.594360\n",
      "Train Epoch: 2 [2560/30016 (9%)]\tLoss: 144.876938\n",
      "Train Epoch: 2 [3200/30016 (11%)]\tLoss: 149.812820\n",
      "Train Epoch: 2 [3840/30016 (13%)]\tLoss: 147.656723\n",
      "Train Epoch: 2 [4480/30016 (15%)]\tLoss: 144.495285\n",
      "Train Epoch: 2 [5120/30016 (17%)]\tLoss: 148.126282\n",
      "Train Epoch: 2 [5760/30016 (19%)]\tLoss: 151.763412\n",
      "Train Epoch: 2 [6400/30016 (21%)]\tLoss: 150.331924\n",
      "Train Epoch: 2 [7040/30016 (23%)]\tLoss: 149.487946\n",
      "Train Epoch: 2 [7680/30016 (26%)]\tLoss: 152.129227\n",
      "Train Epoch: 2 [8320/30016 (28%)]\tLoss: 150.044037\n",
      "Train Epoch: 2 [8960/30016 (30%)]\tLoss: 147.071243\n",
      "Train Epoch: 2 [9600/30016 (32%)]\tLoss: 148.087204\n",
      "Train Epoch: 2 [10240/30016 (34%)]\tLoss: 153.884171\n",
      "Train Epoch: 2 [10880/30016 (36%)]\tLoss: 149.015228\n",
      "Train Epoch: 2 [11520/30016 (38%)]\tLoss: 149.436584\n",
      "Train Epoch: 2 [12160/30016 (41%)]\tLoss: 149.723206\n",
      "Train Epoch: 2 [12800/30016 (43%)]\tLoss: 147.764450\n",
      "Train Epoch: 2 [13440/30016 (45%)]\tLoss: 155.627640\n",
      "Train Epoch: 2 [14080/30016 (47%)]\tLoss: 146.782745\n",
      "Train Epoch: 2 [14720/30016 (49%)]\tLoss: 146.154831\n",
      "Train Epoch: 2 [15360/30016 (51%)]\tLoss: 147.738510\n",
      "Train Epoch: 2 [16000/30016 (53%)]\tLoss: 149.666809\n",
      "Train Epoch: 2 [16640/30016 (55%)]\tLoss: 153.587585\n",
      "Train Epoch: 2 [17280/30016 (58%)]\tLoss: 148.642334\n",
      "Train Epoch: 2 [17920/30016 (60%)]\tLoss: 147.846771\n",
      "Train Epoch: 2 [18560/30016 (62%)]\tLoss: 151.421417\n",
      "Train Epoch: 2 [19200/30016 (64%)]\tLoss: 148.170807\n",
      "Train Epoch: 2 [19840/30016 (66%)]\tLoss: 148.394379\n",
      "Train Epoch: 2 [20480/30016 (68%)]\tLoss: 150.049713\n",
      "Train Epoch: 2 [21120/30016 (70%)]\tLoss: 149.265121\n",
      "Train Epoch: 2 [21760/30016 (72%)]\tLoss: 153.363556\n",
      "Train Epoch: 2 [22400/30016 (75%)]\tLoss: 148.799133\n",
      "Train Epoch: 2 [23040/30016 (77%)]\tLoss: 154.242737\n",
      "Train Epoch: 2 [23680/30016 (79%)]\tLoss: 146.040558\n",
      "Train Epoch: 2 [24320/30016 (81%)]\tLoss: 149.470840\n",
      "Train Epoch: 2 [24960/30016 (83%)]\tLoss: 150.145325\n",
      "Train Epoch: 2 [25600/30016 (85%)]\tLoss: 147.560959\n",
      "Train Epoch: 2 [26240/30016 (87%)]\tLoss: 149.417938\n",
      "Train Epoch: 2 [26880/30016 (90%)]\tLoss: 150.258713\n",
      "Train Epoch: 2 [27520/30016 (92%)]\tLoss: 147.067123\n",
      "Train Epoch: 2 [28160/30016 (94%)]\tLoss: 151.381119\n",
      "Train Epoch: 2 [28800/30016 (96%)]\tLoss: 150.379654\n",
      "Train Epoch: 2 [29440/30016 (98%)]\tLoss: 148.954178\n",
      "\n",
      "Test set: Avg. loss: 0.7720, Accuracy: 1135/30016 (4%)\n",
      "\n",
      "Train Epoch: 3 [0/30016 (0%)]\tLoss: 149.797897\n",
      "Train Epoch: 3 [640/30016 (2%)]\tLoss: 147.667175\n",
      "Train Epoch: 3 [1280/30016 (4%)]\tLoss: 145.847809\n",
      "Train Epoch: 3 [1920/30016 (6%)]\tLoss: 151.594376\n",
      "Train Epoch: 3 [2560/30016 (9%)]\tLoss: 144.876938\n",
      "Train Epoch: 3 [3200/30016 (11%)]\tLoss: 149.812820\n",
      "Train Epoch: 3 [3840/30016 (13%)]\tLoss: 147.656723\n",
      "Train Epoch: 3 [4480/30016 (15%)]\tLoss: 144.495285\n",
      "Train Epoch: 3 [5120/30016 (17%)]\tLoss: 148.126297\n",
      "Train Epoch: 3 [5760/30016 (19%)]\tLoss: 151.763412\n",
      "Train Epoch: 3 [6400/30016 (21%)]\tLoss: 150.331924\n",
      "Train Epoch: 3 [7040/30016 (23%)]\tLoss: 149.487946\n",
      "Train Epoch: 3 [7680/30016 (26%)]\tLoss: 152.129242\n",
      "Train Epoch: 3 [8320/30016 (28%)]\tLoss: 150.044037\n",
      "Train Epoch: 3 [8960/30016 (30%)]\tLoss: 147.071243\n",
      "Train Epoch: 3 [9600/30016 (32%)]\tLoss: 148.087204\n",
      "Train Epoch: 3 [10240/30016 (34%)]\tLoss: 153.884171\n",
      "Train Epoch: 3 [10880/30016 (36%)]\tLoss: 149.015198\n",
      "Train Epoch: 3 [11520/30016 (38%)]\tLoss: 149.436584\n",
      "Train Epoch: 3 [12160/30016 (41%)]\tLoss: 149.723206\n",
      "Train Epoch: 3 [12800/30016 (43%)]\tLoss: 147.764450\n",
      "Train Epoch: 3 [13440/30016 (45%)]\tLoss: 155.627640\n",
      "Train Epoch: 3 [14080/30016 (47%)]\tLoss: 146.782745\n",
      "Train Epoch: 3 [14720/30016 (49%)]\tLoss: 146.154831\n",
      "Train Epoch: 3 [15360/30016 (51%)]\tLoss: 147.738510\n",
      "Train Epoch: 3 [16000/30016 (53%)]\tLoss: 149.666779\n",
      "Train Epoch: 3 [16640/30016 (55%)]\tLoss: 153.587570\n",
      "Train Epoch: 3 [17280/30016 (58%)]\tLoss: 148.642334\n",
      "Train Epoch: 3 [17920/30016 (60%)]\tLoss: 147.846802\n",
      "Train Epoch: 3 [18560/30016 (62%)]\tLoss: 151.421432\n",
      "Train Epoch: 3 [19200/30016 (64%)]\tLoss: 148.170807\n",
      "Train Epoch: 3 [19840/30016 (66%)]\tLoss: 148.394379\n",
      "Train Epoch: 3 [20480/30016 (68%)]\tLoss: 150.049713\n",
      "Train Epoch: 3 [21120/30016 (70%)]\tLoss: 149.265106\n",
      "Train Epoch: 3 [21760/30016 (72%)]\tLoss: 153.363556\n",
      "Train Epoch: 3 [22400/30016 (75%)]\tLoss: 148.799133\n",
      "Train Epoch: 3 [23040/30016 (77%)]\tLoss: 154.242737\n",
      "Train Epoch: 3 [23680/30016 (79%)]\tLoss: 146.040558\n",
      "Train Epoch: 3 [24320/30016 (81%)]\tLoss: 149.470840\n",
      "Train Epoch: 3 [24960/30016 (83%)]\tLoss: 150.145309\n",
      "Train Epoch: 3 [25600/30016 (85%)]\tLoss: 147.560959\n",
      "Train Epoch: 3 [26240/30016 (87%)]\tLoss: 149.417938\n",
      "Train Epoch: 3 [26880/30016 (90%)]\tLoss: 150.258728\n",
      "Train Epoch: 3 [27520/30016 (92%)]\tLoss: 147.067108\n",
      "Train Epoch: 3 [28160/30016 (94%)]\tLoss: 151.381119\n",
      "Train Epoch: 3 [28800/30016 (96%)]\tLoss: 150.379654\n",
      "Train Epoch: 3 [29440/30016 (98%)]\tLoss: 148.954178\n",
      "\n",
      "Test set: Avg. loss: 0.7720, Accuracy: 1135/30016 (4%)\n",
      "\n"
     ]
    }
   ],
   "source": [
    "test_update()\n",
    "for epoch in range(1, n_epochs + 1):\n",
    "    train_update(epoch)\n",
    "    test_update()"
   ]
  },
  {
   "cell_type": "code",
   "execution_count": 24,
   "metadata": {},
   "outputs": [
    {
     "data": {
      "image/png": "[encoded data removed]",
      "text/plain": [
       "<Figure size 432x288 with 1 Axes>"
      ]
     },
     "execution_count": 24,
     "metadata": {},
     "output_type": "execute_result"
    },
    {
     "data": {
      "image/png": "[encoded data removed]",
      "text/plain": [
       "<Figure size 432x288 with 1 Axes>"
      ]
     },
     "metadata": {
      "needs_background": "light"
     },
     "output_type": "display_data"
    }
   ],
   "source": [
    "fig = plt.figure()\n",
    "plt.plot(update_train_counter, update_train_losses, color='blue')\n",
    "plt.scatter(update_test_counter, update_test_losses, color='red')\n",
    "plt.legend(['Train Loss', 'Test Loss'], loc='upper right')\n",
    "plt.xlabel('number of training examples seen')\n",
    "plt.ylabel('negative log likelihood loss')\n",
    "fig"
   ]
  },
  {
   "cell_type": "code",
   "execution_count": 25,
   "metadata": {},
   "outputs": [
    {
     "data": {
      "text/plain": [
       "Net(\n",
       "  (conv1): Conv2d(1, 10, kernel_size=(5, 5), stride=(1, 1))\n",
       "  (conv2): Conv2d(10, 20, kernel_size=(5, 5), stride=(1, 1))\n",
       "  (conv2_drop): Dropout2d(p=0.5, inplace=False)\n",
       "  (fc1): Linear(in_features=320, out_features=50, bias=True)\n",
       "  (fc2): Linear(in_features=50, out_features=10, bias=True)\n",
       ")"
      ]
     },
     "execution_count": 25,
     "metadata": {},
     "output_type": "execute_result"
    }
   ],
   "source": [
    "h2.eval()\n",
    "h1.eval()"
   ]
  },
  {
   "cell_type": "code",
   "execution_count": 26,
   "metadata": {},
   "outputs": [],
   "source": [
    "test_index = 2"
   ]
  },
  {
   "cell_type": "code",
   "execution_count": 27,
   "metadata": {},
   "outputs": [],
   "source": [
    "with torch.no_grad():\n",
    "    _, _, h1_output = h1(test_loader[test_index][0])\n",
    "    _, _, h2_output = h2(test_loader[test_index][0])"
   ]
  },
  {
   "cell_type": "code",
   "execution_count": 28,
   "metadata": {},
   "outputs": [],
   "source": [
    "h1_labels = h1_output.data.max(1)[1]\n",
    "h2_labels = h2_output.data.max(1)[1]\n",
    "expected_labels = test_loader[test_index][1]"
   ]
  },
  {
   "cell_type": "code",
   "execution_count": 29,
   "metadata": {},
   "outputs": [
    {
     "data": {
      "image/png": "[encoded data removed]",
      "text/plain": [
       "<Figure size 432x288 with 6 Axes>"
      ]
     },
     "execution_count": 29,
     "metadata": {},
     "output_type": "execute_result"
    },
    {
     "data": {
      "image/png": "[encoded data removed]",
      "text/plain": [
       "<Figure size 432x288 with 6 Axes>"
      ]
     },
     "metadata": {},
     "output_type": "display_data"
    }
   ],
   "source": [
    "fig = plt.figure()\n",
    "for i in range(6):\n",
    "    plt.subplot(2,3,i+1)\n",
    "    plt.tight_layout()\n",
    "    plt.imshow(test_loader[test_index][0][i][0], cmap='gray', interpolation='none')\n",
    "    plt.title(\"Prediction: {}\".format(\n",
    "        h2_labels[i].item()))\n",
    "    plt.xticks([])\n",
    "    plt.yticks([])\n",
    "fig"
   ]
  },
  {
   "cell_type": "code",
   "execution_count": 30,
   "metadata": {},
   "outputs": [
    {
     "name": "stdout",
     "output_type": "stream",
     "text": [
      "Error Compatibility Score: 0.9259259259259259\n",
      "Trust Compatibility Score: 0.0986639260020555\n"
     ]
    }
   ],
   "source": [
    "trust_compatibility = scores.trust_compatibility_score(h1_labels, h2_labels, expected_labels)\n",
    "error_compatibility = scores.error_compatibility_score(h1_labels, h2_labels, expected_labels)\n",
    "\n",
    "print(f\"Error Compatibility Score: {error_compatibility}\")\n",
    "print(f\"Trust Compatibility Score: {trust_compatibility}\")"
   ]
  },
  {
   "cell_type": "code",
   "execution_count": null,
   "metadata": {},
   "outputs": [],
   "source": []
  }
 ],
 "metadata": {
  "kernelspec": {
   "display_name": "Python 3",
   "language": "python",
   "name": "python3"
  },
  "language_info": {
   "codemirror_mode": {
    "name": "ipython",
    "version": 3
   },
   "file_extension": ".py",
   "mimetype": "text/x-python",
   "name": "python",
   "nbconvert_exporter": "python",
   "pygments_lexer": "ipython3",
   "version": "3.6.9"
  }
 },
 "nbformat": 4,
 "nbformat_minor": 4
}
