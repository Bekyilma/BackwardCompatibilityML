{
 "cells": [
  {
   "cell_type": "code",
   "execution_count": 16,
   "metadata": {},
   "outputs": [],
   "source": [
    "import tensorflow.compat.v2 as tf\n",
    "import tensorflow_datasets as tfds\n",
    "import tensorflow.keras.backend as kb\n",
    "from backwardcompatibilityml import scores\n",
    "from backwardcompatibilityml.tensorflow import helpers as tf_helpers\n",
    "import copy\n",
    "\n",
    "tf.enable_v2_behavior()\n",
    "tf.random.set_seed(0)"
   ]
  },
  {
   "cell_type": "code",
   "execution_count": 17,
   "metadata": {},
   "outputs": [],
   "source": [
    "(ds_train, ds_test), ds_info = tfds.load(\n",
    "    'mnist',\n",
    "    split=['train', 'test'],\n",
    "    shuffle_files=True,\n",
    "    as_supervised=True,\n",
    "    with_info=True,\n",
    ")"
   ]
  },
  {
   "cell_type": "code",
   "execution_count": 18,
   "metadata": {},
   "outputs": [],
   "source": [
    "def normalize_img(image, label):\n",
    "  \"\"\"Normalizes images: `uint8` -> `float32`.\"\"\"\n",
    "  return tf.cast(image, tf.float32) / 255., label\n",
    "\n",
    "ds_train = ds_train.map(\n",
    "    normalize_img, num_parallel_calls=tf.data.experimental.AUTOTUNE)\n",
    "ds_train = ds_train.cache()\n",
    "ds_train = ds_train.shuffle(ds_info.splits['train'].num_examples)\n",
    "ds_train = ds_train.batch(128)\n",
    "ds_train = ds_train.prefetch(tf.data.experimental.AUTOTUNE)"
   ]
  },
  {
   "cell_type": "code",
   "execution_count": 19,
   "metadata": {},
   "outputs": [],
   "source": [
    "ds_test = ds_test.map(\n",
    "    normalize_img, num_parallel_calls=tf.data.experimental.AUTOTUNE)\n",
    "ds_test = ds_test.batch(128)\n",
    "ds_test = ds_test.cache()\n",
    "ds_test = ds_test.prefetch(tf.data.experimental.AUTOTUNE)"
   ]
  },
  {
   "cell_type": "code",
   "execution_count": 20,
   "metadata": {},
   "outputs": [
    {
     "name": "stdout",
     "output_type": "stream",
     "text": [
      "Epoch 1/3\n",
      "469/469 [==============================] - 1s 2ms/step - loss: 0.3558 - accuracy: 0.9021 - val_loss: 0.1865 - val_accuracy: 0.9458\n",
      "Epoch 2/3\n",
      "469/469 [==============================] - 1s 1ms/step - loss: 0.1606 - accuracy: 0.9536 - val_loss: 0.1407 - val_accuracy: 0.9575\n",
      "Epoch 3/3\n",
      "469/469 [==============================] - 1s 1ms/step - loss: 0.1157 - accuracy: 0.9668 - val_loss: 0.1060 - val_accuracy: 0.9679\n"
     ]
    },
    {
     "data": {
      "text/plain": [
       "<tensorflow.python.keras.callbacks.History at 0x7fb1cc04c668>"
      ]
     },
     "execution_count": 20,
     "metadata": {},
     "output_type": "execute_result"
    }
   ],
   "source": [
    "model = tf.keras.models.Sequential([\n",
    "  tf.keras.layers.Flatten(input_shape=(28, 28, 1)),\n",
    "  tf.keras.layers.Dense(128,activation='relu'),\n",
    "  tf.keras.layers.Dense(10, activation='softmax')\n",
    "])\n",
    "model.compile(\n",
    "    loss=tf.keras.losses.sparse_categorical_crossentropy,\n",
    "    optimizer=tf.keras.optimizers.Adam(0.001),\n",
    "    metrics=['accuracy'],\n",
    ")\n",
    "\n",
    "model.fit(\n",
    "    ds_train,\n",
    "    epochs=3,\n",
    "    validation_data=ds_test,\n",
    ")"
   ]
  },
  {
   "cell_type": "code",
   "execution_count": 21,
   "metadata": {},
   "outputs": [],
   "source": [
    "class BCCrossEntropyLoss(object):\n",
    "    \n",
    "    def __init__(self, h1, h2, lambda_c):\n",
    "        self.h1 = h1\n",
    "        self.h2 = h2\n",
    "        self.lambda_c = lambda_c\n",
    "        self.__name__ = \"BCCrossEntropyLoss\"\n",
    "        self.cce_loss = tf.keras.losses.SparseCategoricalCrossentropy(\n",
    "            reduction=tf.keras.losses.Reduction.SUM)\n",
    "    \n",
    "    def dissonance(self, h2_output, target_labels):\n",
    "        cross_entropy_loss = self.cce_loss(target_labels, h2_output)\n",
    "        return cross_entropy_loss\n",
    "    \n",
    "    def __call__(self, x, y):\n",
    "        h1_output = tf.argmax(self.h1(x), axis=1)\n",
    "        h2_output = self.h2(x)\n",
    "        h1_diff = h1_output - y\n",
    "        h1_correct = (h1_diff == 0)\n",
    "        _, x_support = tf.dynamic_partition(x, tf.dtypes.cast(h1_correct, tf.int32), 2)\n",
    "        _, y_support = tf.dynamic_partition(y, tf.dtypes.cast(h1_correct, tf.int32), 2)\n",
    "        h2_support_output = self.h2(x_support)\n",
    "        dissonance = self.dissonance(h2_support_output, y_support)\n",
    "        new_error_loss = self.cce_loss(y, h2_output) + self.lambda_c * dissonance\n",
    "        \n",
    "        return tf.reduce_sum(new_error_loss)"
   ]
  },
  {
   "cell_type": "code",
   "execution_count": 22,
   "metadata": {},
   "outputs": [],
   "source": [
    "lambda_c = 0.9\n",
    "model.trainable = False\n",
    "\n",
    "h2 = tf.keras.models.Sequential([\n",
    "  tf.keras.layers.Flatten(input_shape=(28, 28, 1)),\n",
    "  tf.keras.layers.Dense(128,activation='relu'),\n",
    "  tf.keras.layers.Dense(10, activation='softmax')\n",
    "])\n",
    "\n",
    "bc_loss = BCCrossEntropyLoss(model, h2, lambda_c)"
   ]
  },
  {
   "cell_type": "code",
   "execution_count": 23,
   "metadata": {},
   "outputs": [],
   "source": [
    "optimizer = tf.keras.optimizers.Adam(0.001)"
   ]
  },
  {
   "cell_type": "code",
   "execution_count": 24,
   "metadata": {},
   "outputs": [
    {
     "name": "stdout",
     "output_type": "stream",
     "text": [
      "Epoch 1/6\n",
      "=============================================== Training loss: 25.0517\n",
      "Epoch 2/6\n",
      "=============================================== Training loss: 18.5583\n",
      "Epoch 3/6\n",
      "=============================================== Training loss: 26.4048\n",
      "Epoch 4/6\n",
      "=============================================== Training loss: 14.9898\n",
      "Epoch 5/6\n",
      "=============================================== Training loss: 7.7008\n",
      "Epoch 6/6\n",
      "=============================================== Training loss: 5.2657\n",
      "Training done.\n"
     ]
    }
   ],
   "source": [
    "tf_helpers.bc_fit(h2, training_set=ds_train, testing_set=ds_test, epochs=6, bc_loss=bc_loss, optimizer=optimizer)"
   ]
  },
  {
   "cell_type": "code",
   "execution_count": 25,
   "metadata": {},
   "outputs": [],
   "source": [
    "model.trainable = False\n",
    "h2.trainable = False"
   ]
  },
  {
   "cell_type": "code",
   "execution_count": 26,
   "metadata": {},
   "outputs": [],
   "source": [
    "h1_predicted_labels = []\n",
    "h2_predicted_labels = []\n",
    "ground_truth_labels = []\n",
    "for x_batch_test, y_batch_test in ds_test:\n",
    "    h1_batch_predictions = tf.argmax(model(x_batch_test), axis=1)\n",
    "    h2_batch_predictions = tf.argmax(h2(x_batch_test), axis=1)\n",
    "    h1_predicted_labels += h1_batch_predictions.numpy().tolist()\n",
    "    h2_predicted_labels += h2_batch_predictions.numpy().tolist()\n",
    "    ground_truth_labels += y_batch_test.numpy().tolist()"
   ]
  },
  {
   "cell_type": "code",
   "execution_count": 27,
   "metadata": {},
   "outputs": [
    {
     "name": "stdout",
     "output_type": "stream",
     "text": [
      "lambda_c: 0.9\n",
      "BTC: 0.9932844302097324\n",
      "BEC: 0.660436137071651\n"
     ]
    }
   ],
   "source": [
    "btc = scores.trust_compatibility_score(h1_predicted_labels, h2_predicted_labels, ground_truth_labels)\n",
    "bec = scores.error_compatibility_score(h1_predicted_labels, h2_predicted_labels, ground_truth_labels)\n",
    "\n",
    "print(f\"lambda_c: {lambda_c}\")\n",
    "print(f\"BTC: {btc}\")\n",
    "print(f\"BEC: {bec}\")"
   ]
  },
  {
   "cell_type": "code",
   "execution_count": null,
   "metadata": {},
   "outputs": [],
   "source": []
  }
 ],
 "metadata": {
  "kernelspec": {
   "display_name": "Python 3",
   "language": "python",
   "name": "python3"
  },
  "language_info": {
   "codemirror_mode": {
    "name": "ipython",
    "version": 3
   },
   "file_extension": ".py",
   "mimetype": "text/x-python",
   "name": "python",
   "nbconvert_exporter": "python",
   "pygments_lexer": "ipython3",
   "version": "3.6.9"
  }
 },
 "nbformat": 4,
 "nbformat_minor": 4
}
